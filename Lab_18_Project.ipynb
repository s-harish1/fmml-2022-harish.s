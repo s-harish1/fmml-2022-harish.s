{
  "nbformat": 4,
  "nbformat_minor": 0,
  "metadata": {
    "colab": {
      "name": "Lab-18 Project.ipynb",
      "provenance": [],
      "collapsed_sections": [],
      "include_colab_link": true
    },
    "kernelspec": {
      "name": "python3",
      "display_name": "Python 3"
    },
    "language_info": {
      "name": "python"
    }
  },
  "cells": [
    {
      "cell_type": "markdown",
      "metadata": {
        "id": "view-in-github",
        "colab_type": "text"
      },
      "source": [
        "<a href=\"https://colab.research.google.com/github/s-harish1/ml-2022-harish.s/blob/main/Lab_18_Project.ipynb\" target=\"_parent\"><img src=\"https://colab.research.google.com/assets/colab-badge.svg\" alt=\"Open In Colab\"/></a>"
      ]
    },
    {
      "cell_type": "markdown",
      "source": [
        "Many to Many RNNs\n",
        "\n",
        "These types of networks take a sequence as an input and give a sequence as an output. It can be used in problems like machine translation, named entity recognition, POS tagging and others.\n",
        "\n",
        "In this project you would work on different types of RNNs on the task of POS tagging. "
      ],
      "metadata": {
        "id": "wR1-tzFtmx5S"
      }
    },
    {
      "cell_type": "code",
      "source": [
        "import nltk\n",
        "nltk.download('treebank')\n",
        "nltk.download('brown')\n",
        "nltk.download('universal_tagset')"
      ],
      "metadata": {
        "id": "Mc4T5BKsIjz7",
        "outputId": "3c2c1ee6-ad38-4afe-c05c-d4efce285cf8",
        "colab": {
          "base_uri": "https://localhost:8080/"
        }
      },
      "execution_count": 1,
      "outputs": [
        {
          "output_type": "stream",
          "name": "stderr",
          "text": [
            "[nltk_data] Downloading package treebank to /root/nltk_data...\n",
            "[nltk_data]   Unzipping corpora/treebank.zip.\n",
            "[nltk_data] Downloading package brown to /root/nltk_data...\n",
            "[nltk_data]   Unzipping corpora/brown.zip.\n",
            "[nltk_data] Downloading package universal_tagset to /root/nltk_data...\n",
            "[nltk_data]   Unzipping taggers/universal_tagset.zip.\n"
          ]
        },
        {
          "output_type": "execute_result",
          "data": {
            "text/plain": [
              "True"
            ]
          },
          "metadata": {},
          "execution_count": 1
        }
      ]
    },
    {
      "cell_type": "code",
      "execution_count": 2,
      "metadata": {
        "id": "waY0Fb_AmVB1"
      },
      "outputs": [],
      "source": [
        "## We will use Treebank from NLTK as dataset\n",
        "from nltk.corpus import treebank\n",
        "from nltk.corpus import brown"
      ]
    },
    {
      "cell_type": "code",
      "source": [
        "# load POS tagged corpora from NLTK\n",
        "treebank_corpus = treebank.tagged_sents(tagset='universal')\n",
        "brown_corpus = brown.tagged_sents(tagset='universal')\n",
        "tagged_sentences = treebank_corpus + brown_corpus\n"
      ],
      "metadata": {
        "id": "gSTdU2tqIYmw"
      },
      "execution_count": 3,
      "outputs": []
    },
    {
      "cell_type": "code",
      "source": [
        "print(\"Number of sentences: \" + str(len(tagged_sentences)))\n",
        "tagged_sentences[0]"
      ],
      "metadata": {
        "id": "Zdp_-ESKLTnv",
        "outputId": "8ab3daf4-631f-4943-e0c6-96cc632bc523",
        "colab": {
          "base_uri": "https://localhost:8080/"
        }
      },
      "execution_count": 4,
      "outputs": [
        {
          "output_type": "stream",
          "name": "stdout",
          "text": [
            "Number of sentences: 61254\n"
          ]
        },
        {
          "output_type": "execute_result",
          "data": {
            "text/plain": [
              "[('Pierre', 'NOUN'),\n",
              " ('Vinken', 'NOUN'),\n",
              " (',', '.'),\n",
              " ('61', 'NUM'),\n",
              " ('years', 'NOUN'),\n",
              " ('old', 'ADJ'),\n",
              " (',', '.'),\n",
              " ('will', 'VERB'),\n",
              " ('join', 'VERB'),\n",
              " ('the', 'DET'),\n",
              " ('board', 'NOUN'),\n",
              " ('as', 'ADP'),\n",
              " ('a', 'DET'),\n",
              " ('nonexecutive', 'ADJ'),\n",
              " ('director', 'NOUN'),\n",
              " ('Nov.', 'NOUN'),\n",
              " ('29', 'NUM'),\n",
              " ('.', '.')]"
            ]
          },
          "metadata": {},
          "execution_count": 4
        }
      ]
    },
    {
      "cell_type": "markdown",
      "source": [
        "This is a many-to-many problem, each data point will be a different sentence of the corpora.\n",
        "\n",
        "Each data point will have multiple words in the input sequence. This is what we will refer to as X.\n",
        "\n",
        "Each word will have its correpsonding tag in the output sequence. This what we will refer to as Y.\n",
        "\n"
      ],
      "metadata": {
        "id": "2i3S452lmwqN"
      }
    },
    {
      "cell_type": "code",
      "source": [
        "X = [] # store input sequence\n",
        "Y = [] # store output sequence\n",
        "\n",
        "for sentence in tagged_sentences:\n",
        "    X_sentence = []\n",
        "    Y_sentence = []\n",
        "    for entity in sentence:         \n",
        "        X_sentence.append(entity[0])  # entity[0] contains the word\n",
        "        Y_sentence.append(entity[1])  # entity[1] contains corresponding tag\n",
        "        \n",
        "    X.append(X_sentence)\n",
        "    Y.append(Y_sentence)\n"
      ],
      "metadata": {
        "id": "dSUwl-pWL-4E"
      },
      "execution_count": 5,
      "outputs": []
    },
    {
      "cell_type": "code",
      "source": [
        "num_words = len(set([word.lower() for sentence in X for word in sentence]))\n",
        "num_tags   = len(set([word.lower() for sentence in Y for word in sentence]))\n"
      ],
      "metadata": {
        "id": "L-CLIg5oMBeu"
      },
      "execution_count": 6,
      "outputs": []
    },
    {
      "cell_type": "code",
      "source": [
        "print(\"Total number of tagged sentences: {}\".format(len(X)))\n",
        "print(\"Vocabulary size: {}\".format(num_words))\n",
        "print(\"Total number of tags: {}\".format(num_tags))"
      ],
      "metadata": {
        "id": "izQ9_aO1MD0o",
        "outputId": "75efa360-23d3-4cc3-e0e8-d3e6acc84164",
        "colab": {
          "base_uri": "https://localhost:8080/"
        }
      },
      "execution_count": 7,
      "outputs": [
        {
          "output_type": "stream",
          "name": "stdout",
          "text": [
            "Total number of tagged sentences: 61254\n",
            "Vocabulary size: 53232\n",
            "Total number of tags: 12\n"
          ]
        }
      ]
    },
    {
      "cell_type": "code",
      "source": [
        "## Task - 1\n",
        "## Vectorize each sentence and pad each sequence to a fixed length\n",
        "num_words = len(set([word.lower() for sentence in X for word in sentence]))\n",
        "num_tags   = len(set([word.lower() for sentence in Y for word in sentence]))\n",
        "print(\"Total number of tagged sentences: {}\".format(len(X)))\n",
        "print(\"Vocabulary size: {}\".format(num_words))\n",
        "print(\"Total number of tags: {}\".format(num_tags))\n",
        "print(\"Length of first input sequence  : {}\".format(len(X[0])))\n",
        "print(\"Length of first output sequence : {}\".format(len(Y[0])))                     \n"
      ],
      "metadata": {
        "id": "jaj5o3tlMKMM",
        "outputId": "7a6b21c9-5cdc-4aaf-a004-408dd66d0009",
        "colab": {
          "base_uri": "https://localhost:8080/"
        }
      },
      "execution_count": 8,
      "outputs": [
        {
          "output_type": "stream",
          "name": "stdout",
          "text": [
            "Total number of tagged sentences: 61254\n",
            "Vocabulary size: 53232\n",
            "Total number of tags: 12\n",
            "Length of first input sequence  : 18\n",
            "Length of first output sequence : 18\n"
          ]
        }
      ]
    },
    {
      "cell_type": "code",
      "source": [
        "from keras.preprocessing.sequence import pad_sequences\n",
        "from keras.utils.np_utils import to_categorical\n",
        "from keras.preprocessing.text import Tokenizer"
      ],
      "metadata": {
        "id": "C_rGKjQcM6a4"
      },
      "execution_count": 9,
      "outputs": []
    },
    {
      "cell_type": "code",
      "source": [
        "word_tokenizer = Tokenizer()                      # instantiate tokeniser\n",
        "word_tokenizer.fit_on_texts(X)                    # fit tokeniser on data\n",
        "X_encoded = word_tokenizer.texts_to_sequences(X)      # use the tokeniser to encode input sequence                               "
      ],
      "metadata": {
        "id": "xHyfAoHIM2kT"
      },
      "execution_count": 10,
      "outputs": []
    },
    {
      "cell_type": "code",
      "source": [
        "## Task - 2 \n",
        "## Convert Y to categorical and pad it as input\n",
        "tag_tokenizer = Tokenizer()\n",
        "tag_tokenizer.fit_on_texts(Y)\n",
        "Y_encoded = tag_tokenizer.texts_to_sequences(Y)"
      ],
      "metadata": {
        "id": "W8E9jODFMqa4"
      },
      "execution_count": 11,
      "outputs": []
    },
    {
      "cell_type": "code",
      "source": [
        "## Padding\n",
        "#X_encoded is the encoded form X from Task-1\n",
        "MAX_SEQ_LENGTH = 100  # sequences greater than 100 in length will be truncated\n",
        "\n",
        "X_padded = pad_sequences(X_encoded, maxlen=MAX_SEQ_LENGTH, padding=\"pre\", truncating=\"post\")\n",
        "Y_padded = pad_sequences(Y_encoded, maxlen=MAX_SEQ_LENGTH, padding=\"pre\", truncating=\"post\") # Pad for Y\n",
        "X, Y = X_padded, Y_padded\n"
      ],
      "metadata": {
        "id": "IXc87UyONM1v"
      },
      "execution_count": 14,
      "outputs": []
    },
    {
      "cell_type": "code",
      "source": [
        "# Change Y to categorical \n",
        "Y = to_categorical(Y)"
      ],
      "metadata": {
        "id": "H58Fbv1TNZ7N"
      },
      "execution_count": 19,
      "outputs": []
    },
    {
      "cell_type": "code",
      "source": [
        "from sklearn.model_selection import train_test_split\n",
        "from sklearn.utils import shuffle\n"
      ],
      "metadata": {
        "id": "pzym9XOSNen5"
      },
      "execution_count": 20,
      "outputs": []
    },
    {
      "cell_type": "code",
      "source": [
        "### Split data in training and testing \n",
        "TEST_SIZE = 0.15\n",
        "X_train, X_test, Y_train, Y_test = train_test_split(X, Y, test_size=TEST_SIZE, random_state=4)"
      ],
      "metadata": {
        "id": "bmk6GtXZMhoR"
      },
      "execution_count": 36,
      "outputs": []
    },
    {
      "cell_type": "code",
      "source": [
        "print(\"TRAINING DATA\")\n",
        "print('Shape of input sequences: {}'.format(X_train.shape))\n",
        "print('Shape of output sequences: {}'.format(Y_train.shape))\n",
        "print(\"-\"*50)\n",
        "print(\"TESTING DATA\")\n",
        "print('Shape of input sequences: {}'.format(X_test.shape))\n",
        "print('Shape of output sequences: {}'.format(Y_test.shape))\n"
      ],
      "metadata": {
        "id": "zoOtnDLuMpcE",
        "outputId": "7cf5075a-ed81-4492-e46b-ec616cf664fa",
        "colab": {
          "base_uri": "https://localhost:8080/"
        }
      },
      "execution_count": 37,
      "outputs": [
        {
          "output_type": "stream",
          "name": "stdout",
          "text": [
            "TRAINING DATA\n",
            "Shape of input sequences: (52065, 100)\n",
            "Shape of output sequences: (52065, 100, 13)\n",
            "--------------------------------------------------\n",
            "TESTING DATA\n",
            "Shape of input sequences: (9189, 100)\n",
            "Shape of output sequences: (9189, 100, 13)\n"
          ]
        }
      ]
    },
    {
      "cell_type": "code",
      "source": [
        "NUM_CLASSES = Y.shape[2]"
      ],
      "metadata": {
        "id": "QZJ8foUQNoZs"
      },
      "execution_count": 38,
      "outputs": []
    },
    {
      "cell_type": "code",
      "source": [
        "from keras.models import Sequential\n",
        "from keras.layers import Embedding\n",
        "from keras.layers import Dense, Input\n",
        "from keras.layers import TimeDistributed\n",
        "from keras.layers import LSTM, GRU, Bidirectional, SimpleRNN, RNN\n",
        "from keras.models import Model"
      ],
      "metadata": {
        "id": "t9uxggfrNvzI"
      },
      "execution_count": 24,
      "outputs": []
    },
    {
      "cell_type": "code",
      "source": [
        "X[0]"
      ],
      "metadata": {
        "id": "ZBEE_iP7PsIJ",
        "outputId": "dc769645-6d03-448f-943b-d9d53833d206",
        "colab": {
          "base_uri": "https://localhost:8080/"
        }
      },
      "execution_count": 39,
      "outputs": [
        {
          "output_type": "execute_result",
          "data": {
            "text/plain": [
              "array([    0,     0,     0,     0,     0,     0,     0,     0,     0,\n",
              "           0,     0,     0,     0,     0,     0,     0,     0,     0,\n",
              "           0,     0,     0,     0,     0,     0,     0,     0,     0,\n",
              "           0,     0,     0,     0,     0,     0,     0,     0,     0,\n",
              "           0,     0,     0,     0,     0,     0,     0,     0,     0,\n",
              "           0,     0,     0,     0,     0,     0,     0,     0,     0,\n",
              "           0,     0,     0,     0,     0,     0,     0,     0,     0,\n",
              "           0,     0,     0,     0,     0,     0,     0,     0,     0,\n",
              "           0,     0,     0,     0,     0,     0,     0,     0,     0,\n",
              "           0,  5594, 21728,     2,  9068,   105,   158,     2,    53,\n",
              "        1748,     1,   344,    18,     7, 13148,   880,  2681,  4000,\n",
              "           3], dtype=int32)"
            ]
          },
          "metadata": {},
          "execution_count": 39
        }
      ]
    },
    {
      "cell_type": "code",
      "source": [
        "### Task - 3 Complete the two lines"
      ],
      "metadata": {
        "id": "VM0MaaO9BdxE"
      },
      "execution_count": null,
      "outputs": []
    },
    {
      "cell_type": "code",
      "source": [
        "rnn_model = Sequential()\n",
        "\n",
        "# create embedding layer - usually the first layer in text problems\n",
        "rnn_model.add(Embedding(num_words + 1,         # vocabulary size - number of unique words in data\n",
        "                        output_dim    =  300,          # length of vector with which each word is represented\n",
        "                        input_length  =  MAX_SEQ_LENGTH,          # length of input sequence\n",
        "                        trainable     =  False                    # False - don't update the embeddings\n",
        "))\n",
        "\n",
        "# add an any RNN layer which contains 64 RNN cells\n",
        "rnn_model.add(SimpleRNN(64, \n",
        "              return_sequences=True ))\n",
        "\n",
        "# add time distributed (output at each sequence) layer\n",
        "rnn_model.add(TimeDistributed(Dense(NUM_CLASSES, activation='softmax')))"
      ],
      "metadata": {
        "id": "80yPeIRGNrOf"
      },
      "execution_count": 40,
      "outputs": []
    },
    {
      "cell_type": "code",
      "source": [
        "rnn_model.compile(loss      =  'categorical_crossentropy',\n",
        "                  optimizer =  'adam',\n",
        "                  metrics   =  ['acc'])\n"
      ],
      "metadata": {
        "id": "pS0uwKlCNu3R"
      },
      "execution_count": 41,
      "outputs": []
    },
    {
      "cell_type": "code",
      "source": [
        "rnn_model.summary()\n"
      ],
      "metadata": {
        "id": "a90HE-aROobD",
        "outputId": "480ec725-1169-44ac-e2b1-3f83e02c0aaf",
        "colab": {
          "base_uri": "https://localhost:8080/"
        }
      },
      "execution_count": 42,
      "outputs": [
        {
          "output_type": "stream",
          "name": "stdout",
          "text": [
            "Model: \"sequential_1\"\n",
            "_________________________________________________________________\n",
            " Layer (type)                Output Shape              Param #   \n",
            "=================================================================\n",
            " embedding_1 (Embedding)     (None, 100, 300)          15969900  \n",
            "                                                                 \n",
            " simple_rnn_1 (SimpleRNN)    (None, 100, 64)           23360     \n",
            "                                                                 \n",
            " time_distributed_1 (TimeDis  (None, 100, 13)          845       \n",
            " tributed)                                                       \n",
            "                                                                 \n",
            "=================================================================\n",
            "Total params: 15,994,105\n",
            "Trainable params: 24,205\n",
            "Non-trainable params: 15,969,900\n",
            "_________________________________________________________________\n"
          ]
        }
      ]
    },
    {
      "cell_type": "code",
      "source": [
        "rnn_training = rnn_model.fit(X_train, Y_train, batch_size=256, epochs=10)\n"
      ],
      "metadata": {
        "id": "xRuJr-oaOp3q",
        "outputId": "3961486c-eca2-45d2-c241-ca1927dc8001",
        "colab": {
          "base_uri": "https://localhost:8080/"
        }
      },
      "execution_count": 43,
      "outputs": [
        {
          "output_type": "stream",
          "name": "stdout",
          "text": [
            "Epoch 1/10\n",
            "204/204 [==============================] - 34s 163ms/step - loss: 0.6030 - acc: 0.8291\n",
            "Epoch 2/10\n",
            "204/204 [==============================] - 33s 160ms/step - loss: 0.3761 - acc: 0.8859\n",
            "Epoch 3/10\n",
            "204/204 [==============================] - 33s 161ms/step - loss: 0.2923 - acc: 0.9106\n",
            "Epoch 4/10\n",
            "204/204 [==============================] - 33s 161ms/step - loss: 0.2419 - acc: 0.9259\n",
            "Epoch 5/10\n",
            "204/204 [==============================] - 32s 159ms/step - loss: 0.2106 - acc: 0.9349\n",
            "Epoch 6/10\n",
            "204/204 [==============================] - 33s 160ms/step - loss: 0.1896 - acc: 0.9406\n",
            "Epoch 7/10\n",
            "204/204 [==============================] - 32s 157ms/step - loss: 0.1737 - acc: 0.9450\n",
            "Epoch 8/10\n",
            "204/204 [==============================] - 33s 160ms/step - loss: 0.1614 - acc: 0.9481\n",
            "Epoch 9/10\n",
            "204/204 [==============================] - 32s 158ms/step - loss: 0.1521 - acc: 0.9506\n",
            "Epoch 10/10\n",
            "204/204 [==============================] - 34s 169ms/step - loss: 0.1450 - acc: 0.9524\n"
          ]
        }
      ]
    },
    {
      "cell_type": "code",
      "source": [
        "from matplotlib import pyplot as plt"
      ],
      "metadata": {
        "id": "dV9RiL92ArQO"
      },
      "execution_count": 30,
      "outputs": []
    },
    {
      "cell_type": "code",
      "source": [
        "plt.plot(rnn_training.history['acc'])\n",
        "plt.title('model accuracy')\n",
        "plt.ylabel('accuracy')\n",
        "plt.xlabel('epoch')\n",
        "plt.legend(['train', 'test'], loc=\"lower right\")\n",
        "plt.show()\n"
      ],
      "metadata": {
        "id": "XO7E0Z9QOt0o",
        "outputId": "cff7600c-bd4e-4c19-bd23-659056a8efef",
        "colab": {
          "base_uri": "https://localhost:8080/",
          "height": 295
        }
      },
      "execution_count": 46,
      "outputs": [
        {
          "output_type": "display_data",
          "data": {
            "text/plain": [
              "<Figure size 432x288 with 1 Axes>"
            ],
            "image/png": "[encoded data removed]"
          },
          "metadata": {
            "needs_background": "light"
          }
        }
      ]
    },
    {
      "cell_type": "code",
      "source": [
        "loss, accuracy = rnn_model.evaluate(X_test, Y_test, verbose = 1)\n",
        "print(\"Loss: {0},\\nAccuracy: {1}\".format(loss, accuracy))"
      ],
      "metadata": {
        "id": "StG9D6m-Gj1Y",
        "outputId": "3d575dfd-58ce-4300-f9cc-dd79ea727026",
        "colab": {
          "base_uri": "https://localhost:8080/"
        }
      },
      "execution_count": 32,
      "outputs": [
        {
          "output_type": "stream",
          "name": "stdout",
          "text": [
            "288/288 [==============================] - 5s 15ms/step - loss: 0.1450 - acc: 0.9528\n",
            "Loss: 0.14504817128181458,\n",
            "Accuracy: 0.9527554512023926\n"
          ]
        }
      ]
    },
    {
      "cell_type": "code",
      "source": [
        "## Task - 4 How did turning the trainable parameter in Embedding layer into True effect the performance?\n",
        "#Embeddings get updated"
      ],
      "metadata": {
        "id": "mwUWYtbWBxzD"
      },
      "execution_count": 47,
      "outputs": []
    },
    {
      "cell_type": "code",
      "source": [
        "## Task - 5 How else can you improve the accuracy?\n",
        "#Add more layers and increase no of epochs or batch size(but kepp them balanced)"
      ],
      "metadata": {
        "id": "EkBr6IuKHKUy"
      },
      "execution_count": 48,
      "outputs": []
    },
    {
      "cell_type": "code",
      "source": [
        "## Task - 6 Use other RNNs present in Keras like LSTM, GRU, BiLSTMs, BiGRU and compare any three models with RNNs "
      ],
      "metadata": {
        "id": "Eg4KYjksGIw1"
      },
      "execution_count": null,
      "outputs": []
    }
  ]
}